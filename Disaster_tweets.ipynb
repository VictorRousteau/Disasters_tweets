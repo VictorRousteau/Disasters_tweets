{
  "nbformat": 4,
  "nbformat_minor": 0,
  "metadata": {
    "colab": {
      "provenance": [],
      "collapsed_sections": []
    },
    "kernelspec": {
      "name": "python3",
      "display_name": "Python 3"
    },
    "language_info": {
      "name": "python"
    }
  },
  "cells": [
    {
      "cell_type": "code",
      "execution_count": 1,
      "metadata": {
        "id": "cZoVoI6cbvuB"
      },
      "outputs": [],
      "source": [
        "!pip install tensorflow -q"
      ]
    },
    {
      "cell_type": "code",
      "source": [
        "!pip install spacy -q\n"
      ],
      "metadata": {
        "id": "sDpCvkvdcIXM"
      },
      "execution_count": 2,
      "outputs": []
    },
    {
      "cell_type": "code",
      "source": [
        "!python -m spacy download en_core_web_sm -q"
      ],
      "metadata": {
        "colab": {
          "base_uri": "https://localhost:8080/"
        },
        "id": "Pj58kBT8eIuI",
        "outputId": "8765686b-2a14-4af4-8680-d2df24306c36"
      },
      "execution_count": 10,
      "outputs": [
        {
          "output_type": "stream",
          "name": "stdout",
          "text": [
            "2022-10-26 18:05:46.077905: E tensorflow/stream_executor/cuda/cuda_driver.cc:271] failed call to cuInit: CUDA_ERROR_NO_DEVICE: no CUDA-capable device is detected\n",
            "\u001b[K     |████████████████████████████████| 12.8 MB 8.3 MB/s \n",
            "\u001b[?25h\u001b[38;5;2m✔ Download and installation successful\u001b[0m\n",
            "You can now load the package via spacy.load('en_core_web_sm')\n"
          ]
        }
      ]
    },
    {
      "cell_type": "markdown",
      "source": [
        "Import libraries"
      ],
      "metadata": {
        "id": "p2UedjcecMA9"
      }
    },
    {
      "cell_type": "code",
      "source": [
        "import pandas as pd\n",
        "import numpy as np\n",
        "import io\n",
        "import os\n",
        "import re\n",
        "import shutil\n",
        "import string\n",
        "import tensorflow as tf\n",
        "import seaborn as sns\n",
        "import matplotlib.pyplot as plt\n",
        "\n",
        "from tensorflow.keras import Sequential\n",
        "from tensorflow.keras.layers import Dense, Embedding, GlobalAveragePooling1D\n",
        "from tensorflow.keras.layers.experimental.preprocessing import TextVectorization\n",
        "from tensorflow.keras.layers import SimpleRNN\n",
        "from tensorflow.keras.layers import LSTM\n",
        "\n",
        "import en_core_web_sm\n",
        "from spacy.lang.en.stop_words import STOP_WORDS"
      ],
      "metadata": {
        "id": "7hdhcD8EcRqf"
      },
      "execution_count": 28,
      "outputs": []
    },
    {
      "cell_type": "markdown",
      "source": [
        "DATA ANALYSIS"
      ],
      "metadata": {
        "id": "kgAjKhezcpf9"
      }
    },
    {
      "cell_type": "markdown",
      "source": [
        "Import dataset"
      ],
      "metadata": {
        "id": "25tfMZLWcaDx"
      }
    },
    {
      "cell_type": "code",
      "source": [
        "data_train = pd.read_csv(\"/train.csv\")\n",
        "data_test = pd.read_csv(\"/test.csv\")\n",
        "data_sample = pd.read_csv(\"/sample_submission.csv\")"
      ],
      "metadata": {
        "id": "S0kjbBMscoAw"
      },
      "execution_count": 4,
      "outputs": []
    },
    {
      "cell_type": "code",
      "source": [
        "data_train[\"target\"].value_counts()\n"
      ],
      "metadata": {
        "colab": {
          "base_uri": "https://localhost:8080/"
        },
        "id": "ZzluOVMEdOTb",
        "outputId": "c439f9d0-5bf3-4523-8b2c-3e570faa0352"
      },
      "execution_count": 5,
      "outputs": [
        {
          "output_type": "execute_result",
          "data": {
            "text/plain": [
              "0    4342\n",
              "1    3271\n",
              "Name: target, dtype: int64"
            ]
          },
          "metadata": {},
          "execution_count": 5
        }
      ]
    },
    {
      "cell_type": "code",
      "source": [
        "sns.countplot(x=data_train['target'])\n"
      ],
      "metadata": {
        "colab": {
          "base_uri": "https://localhost:8080/",
          "height": 297
        },
        "id": "iPa7VvBidRQO",
        "outputId": "9b5acaff-f72d-47f7-c2ea-756aa732fa96"
      },
      "execution_count": 7,
      "outputs": [
        {
          "output_type": "execute_result",
          "data": {
            "text/plain": [
              "<matplotlib.axes._subplots.AxesSubplot at 0x7ffb334c6190>"
            ]
          },
          "metadata": {},
          "execution_count": 7
        },
        {
          "output_type": "display_data",
          "data": {
            "text/plain": [
              "<Figure size 432x288 with 1 Axes>"
            ],
            "image/png": "[encoded data removed]"
          },
          "metadata": {
            "needs_background": "light"
          }
        }
      ]
    },
    {
      "cell_type": "code",
      "source": [
        "print(\"Missing values train set:\")\n",
        "print(data_train.isna().sum()*100 / data_train.shape[0])"
      ],
      "metadata": {
        "colab": {
          "base_uri": "https://localhost:8080/"
        },
        "id": "Ygi0QEj5dkC9",
        "outputId": "bf51feab-65f6-47d4-8037-f87e60f3518c"
      },
      "execution_count": 8,
      "outputs": [
        {
          "output_type": "stream",
          "name": "stdout",
          "text": [
            "Missing values train set:\n",
            "id           0.000000\n",
            "keyword      0.801261\n",
            "location    33.272035\n",
            "text         0.000000\n",
            "target       0.000000\n",
            "dtype: float64\n"
          ]
        }
      ]
    },
    {
      "cell_type": "code",
      "source": [
        "data_train = data_train.fillna('')\n",
        "data_train.head()"
      ],
      "metadata": {
        "colab": {
          "base_uri": "https://localhost:8080/",
          "height": 206
        },
        "id": "Zid9CX82d8ol",
        "outputId": "c4ee3aaa-3161-488e-fcbd-2913be81c2a2"
      },
      "execution_count": 9,
      "outputs": [
        {
          "output_type": "execute_result",
          "data": {
            "text/plain": [
              "   id keyword location                                               text  \\\n",
              "0   1                   Our Deeds are the Reason of this #earthquake M...   \n",
              "1   4                              Forest fire near La Ronge Sask. Canada   \n",
              "2   5                   All residents asked to 'shelter in place' are ...   \n",
              "3   6                   13,000 people receive #wildfires evacuation or...   \n",
              "4   7                   Just got sent this photo from Ruby #Alaska as ...   \n",
              "\n",
              "   target  \n",
              "0       1  \n",
              "1       1  \n",
              "2       1  \n",
              "3       1  \n",
              "4       1  "
            ],
            "text/html": [
              "\n",
              "  <div id=\"df-14e7d3d2-8a3f-4a75-8bd3-7c8efe5145e4\">\n",
              "    <div class=\"colab-df-container\">\n",
              "      <div>\n",
              "<style scoped>\n",
              "    .dataframe tbody tr th:only-of-type {\n",
              "        vertical-align: middle;\n",
              "    }\n",
              "\n",
              "    .dataframe tbody tr th {\n",
              "        vertical-align: top;\n",
              "    }\n",
              "\n",
              "    .dataframe thead th {\n",
              "        text-align: right;\n",
              "    }\n",
              "</style>\n",
              "<table border=\"1\" class=\"dataframe\">\n",
              "  <thead>\n",
              "    <tr style=\"text-align: right;\">\n",
              "      <th></th>\n",
              "      <th>id</th>\n",
              "      <th>keyword</th>\n",
              "      <th>location</th>\n",
              "      <th>text</th>\n",
              "      <th>target</th>\n",
              "    </tr>\n",
              "  </thead>\n",
              "  <tbody>\n",
              "    <tr>\n",
              "      <th>0</th>\n",
              "      <td>1</td>\n",
              "      <td></td>\n",
              "      <td></td>\n",
              "      <td>Our Deeds are the Reason of this #earthquake M...</td>\n",
              "      <td>1</td>\n",
              "    </tr>\n",
              "    <tr>\n",
              "      <th>1</th>\n",
              "      <td>4</td>\n",
              "      <td></td>\n",
              "      <td></td>\n",
              "      <td>Forest fire near La Ronge Sask. Canada</td>\n",
              "      <td>1</td>\n",
              "    </tr>\n",
              "    <tr>\n",
              "      <th>2</th>\n",
              "      <td>5</td>\n",
              "      <td></td>\n",
              "      <td></td>\n",
              "      <td>All residents asked to 'shelter in place' are ...</td>\n",
              "      <td>1</td>\n",
              "    </tr>\n",
              "    <tr>\n",
              "      <th>3</th>\n",
              "      <td>6</td>\n",
              "      <td></td>\n",
              "      <td></td>\n",
              "      <td>13,000 people receive #wildfires evacuation or...</td>\n",
              "      <td>1</td>\n",
              "    </tr>\n",
              "    <tr>\n",
              "      <th>4</th>\n",
              "      <td>7</td>\n",
              "      <td></td>\n",
              "      <td></td>\n",
              "      <td>Just got sent this photo from Ruby #Alaska as ...</td>\n",
              "      <td>1</td>\n",
              "    </tr>\n",
              "  </tbody>\n",
              "</table>\n",
              "</div>\n",
              "      <button class=\"colab-df-convert\" onclick=\"convertToInteractive('df-14e7d3d2-8a3f-4a75-8bd3-7c8efe5145e4')\"\n",
              "              title=\"Convert this dataframe to an interactive table.\"\n",
              "              style=\"display:none;\">\n",
              "        \n",
              "  <svg xmlns=\"http://www.w3.org/2000/svg\" height=\"24px\"viewBox=\"0 0 24 24\"\n",
              "       width=\"24px\">\n",
              "    <path d=\"M0 0h24v24H0V0z\" fill=\"none\"/>\n",
              "    <path d=\"M18.56 5.44l.94 2.06.94-2.06 2.06-.94-2.06-.94-.94-2.06-.94 2.06-2.06.94zm-11 1L8.5 8.5l.94-2.06 2.06-.94-2.06-.94L8.5 2.5l-.94 2.06-2.06.94zm10 10l.94 2.06.94-2.06 2.06-.94-2.06-.94-.94-2.06-.94 2.06-2.06.94z\"/><path d=\"M17.41 7.96l-1.37-1.37c-.4-.4-.92-.59-1.43-.59-.52 0-1.04.2-1.43.59L10.3 9.45l-7.72 7.72c-.78.78-.78 2.05 0 2.83L4 21.41c.39.39.9.59 1.41.59.51 0 1.02-.2 1.41-.59l7.78-7.78 2.81-2.81c.8-.78.8-2.07 0-2.86zM5.41 20L4 18.59l7.72-7.72 1.47 1.35L5.41 20z\"/>\n",
              "  </svg>\n",
              "      </button>\n",
              "      \n",
              "  <style>\n",
              "    .colab-df-container {\n",
              "      display:flex;\n",
              "      flex-wrap:wrap;\n",
              "      gap: 12px;\n",
              "    }\n",
              "\n",
              "    .colab-df-convert {\n",
              "      background-color: #E8F0FE;\n",
              "      border: none;\n",
              "      border-radius: 50%;\n",
              "      cursor: pointer;\n",
              "      display: none;\n",
              "      fill: #1967D2;\n",
              "      height: 32px;\n",
              "      padding: 0 0 0 0;\n",
              "      width: 32px;\n",
              "    }\n",
              "\n",
              "    .colab-df-convert:hover {\n",
              "      background-color: #E2EBFA;\n",
              "      box-shadow: 0px 1px 2px rgba(60, 64, 67, 0.3), 0px 1px 3px 1px rgba(60, 64, 67, 0.15);\n",
              "      fill: #174EA6;\n",
              "    }\n",
              "\n",
              "    [theme=dark] .colab-df-convert {\n",
              "      background-color: #3B4455;\n",
              "      fill: #D2E3FC;\n",
              "    }\n",
              "\n",
              "    [theme=dark] .colab-df-convert:hover {\n",
              "      background-color: #434B5C;\n",
              "      box-shadow: 0px 1px 3px 1px rgba(0, 0, 0, 0.15);\n",
              "      filter: drop-shadow(0px 1px 2px rgba(0, 0, 0, 0.3));\n",
              "      fill: #FFFFFF;\n",
              "    }\n",
              "  </style>\n",
              "\n",
              "      <script>\n",
              "        const buttonEl =\n",
              "          document.querySelector('#df-14e7d3d2-8a3f-4a75-8bd3-7c8efe5145e4 button.colab-df-convert');\n",
              "        buttonEl.style.display =\n",
              "          google.colab.kernel.accessAllowed ? 'block' : 'none';\n",
              "\n",
              "        async function convertToInteractive(key) {\n",
              "          const element = document.querySelector('#df-14e7d3d2-8a3f-4a75-8bd3-7c8efe5145e4');\n",
              "          const dataTable =\n",
              "            await google.colab.kernel.invokeFunction('convertToInteractive',\n",
              "                                                     [key], {});\n",
              "          if (!dataTable) return;\n",
              "\n",
              "          const docLinkHtml = 'Like what you see? Visit the ' +\n",
              "            '<a target=\"_blank\" href=https://colab.research.google.com/notebooks/data_table.ipynb>data table notebook</a>'\n",
              "            + ' to learn more about interactive tables.';\n",
              "          element.innerHTML = '';\n",
              "          dataTable['output_type'] = 'display_data';\n",
              "          await google.colab.output.renderOutput(dataTable, element);\n",
              "          const docLink = document.createElement('div');\n",
              "          docLink.innerHTML = docLinkHtml;\n",
              "          element.appendChild(docLink);\n",
              "        }\n",
              "      </script>\n",
              "    </div>\n",
              "  </div>\n",
              "  "
            ]
          },
          "metadata": {},
          "execution_count": 9
        }
      ]
    },
    {
      "cell_type": "markdown",
      "source": [
        "WORD EMBEDDING : PREPROCESSING"
      ],
      "metadata": {
        "id": "k1OpZTt5eCfN"
      }
    },
    {
      "cell_type": "code",
      "source": [
        "nlp = en_core_web_sm.load()"
      ],
      "metadata": {
        "colab": {
          "base_uri": "https://localhost:8080/"
        },
        "id": "1lLTzJameAUF",
        "outputId": "538ba9ee-b2f0-480c-da9d-37d46e077bf7"
      },
      "execution_count": 12,
      "outputs": [
        {
          "output_type": "stream",
          "name": "stderr",
          "text": [
            "/usr/local/lib/python3.7/dist-packages/spacy/language.py:1899: UserWarning: [W123] Argument disable with value [] is used instead of ['senter'] as specified in the config. Be aware that this might affect other components in your pipeline.\n",
            "  config_value=config[\"nlp\"][key],\n"
          ]
        }
      ]
    },
    {
      "cell_type": "markdown",
      "source": [
        "Ma fonction"
      ],
      "metadata": {
        "id": "G3tN4fr3gW7l"
      }
    },
    {
      "cell_type": "code",
      "source": [
        "\n",
        "#Define function to clean text :\n",
        "\n",
        "pattern = r'[0-9]'\n",
        "prefixes = \"http\"\n",
        "def clean_text(text):\n",
        "  text = \"\".join([ch for ch in text if ch.isalnum() or ch == \" \"]) # Remove non-alphanuleric characters\n",
        "  text = re.sub(\" +\", \" \", text).lower().strip() # Decrease number of characters\n",
        "  text = \" \".join([token.lemma_ for token in nlp(text) if token.text not in STOP_WORDS and token.lemma_ not in STOP_WORDS]) # Lemmatize words ans delete stop words\n",
        "  text = re.sub(pattern, ' ', text) # Delete digits and replace it with blank space\n",
        "  text = ' '.join( [w for w in text.split() if len(w)>1] ) # Delete words with one character\n",
        "\n",
        "  return text"
      ],
      "metadata": {
        "id": "gLT1hlM4fXuZ"
      },
      "execution_count": 13,
      "outputs": []
    },
    {
      "cell_type": "code",
      "source": [
        "data_train[\"text_clean\"] = data_train[\"text\"].apply(lambda x: clean_text(x))\n",
        "data_train[\"keyword_clean\"] = data_train[\"keyword\"].astype(str).apply(lambda x: clean_text(x)+\" \")"
      ],
      "metadata": {
        "id": "BXWbGjeVgZLz"
      },
      "execution_count": 14,
      "outputs": []
    },
    {
      "cell_type": "code",
      "source": [
        "data_train[\"all_text_clean\"] = +data_train[\"keyword_clean\"] + data_train[\"text_clean\"]"
      ],
      "metadata": {
        "id": "Y9ytG7oYeaQX"
      },
      "execution_count": 15,
      "outputs": []
    },
    {
      "cell_type": "markdown",
      "source": [
        "Encoding text"
      ],
      "metadata": {
        "id": "rJZChO2ahBjG"
      }
    },
    {
      "cell_type": "code",
      "source": [
        "tokenizer = tf.keras.preprocessing.text.Tokenizer(num_words=2000) # instanciate the tokenizer\n",
        "tokenizer.fit_on_texts(data_train.all_text_clean)\n",
        "data_train[\"all_text_encoded\"] = tokenizer.texts_to_sequences(data_train.all_text_clean)\n",
        "\n",
        "data_train[\"len\"] = data_train[\"all_text_encoded\"].apply(lambda x: len(x))\n",
        "data_train = data_train[data_train[\"len\"]!=0]"
      ],
      "metadata": {
        "id": "NpPGKF0IhFC7"
      },
      "execution_count": 16,
      "outputs": []
    },
    {
      "cell_type": "code",
      "source": [
        "data_train.head()\n"
      ],
      "metadata": {
        "colab": {
          "base_uri": "https://localhost:8080/",
          "height": 337
        },
        "id": "XX6Ut3ZzhFoK",
        "outputId": "a6394f7d-0db5-46d7-9c50-5c0d5fb90508"
      },
      "execution_count": 18,
      "outputs": [
        {
          "output_type": "execute_result",
          "data": {
            "text/plain": [
              "   id keyword location                                               text  \\\n",
              "0   1                   Our Deeds are the Reason of this #earthquake M...   \n",
              "1   4                              Forest fire near La Ronge Sask. Canada   \n",
              "2   5                   All residents asked to 'shelter in place' are ...   \n",
              "3   6                   13,000 people receive #wildfires evacuation or...   \n",
              "4   7                   Just got sent this photo from Ruby #Alaska as ...   \n",
              "\n",
              "   target                                         text_clean keyword_clean  \\\n",
              "0       1               deed reason earthquake allah forgive                 \n",
              "1       1              forest fire near la ronge sask canada                 \n",
              "2       1  resident ask shelter place notify officer evac...                 \n",
              "3       1  people receive wildfire evacuation order calif...                 \n",
              "4       1  got send photo ruby alaska smoke wildfire pour...                 \n",
              "\n",
              "                                      all_text_clean  \\\n",
              "0               deed reason earthquake allah forgive   \n",
              "1              forest fire near la ronge sask canada   \n",
              "2   resident ask shelter place notify officer eva...   \n",
              "3   people receive wildfire evacuation order cali...   \n",
              "4   got send photo ruby alaska smoke wildfire pou...   \n",
              "\n",
              "                                    all_text_encoded  len  \n",
              "0                             [438, 100, 1384, 1961]    4  \n",
              "1                            [73, 2, 259, 485, 1036]    5  \n",
              "2  [1385, 467, 1712, 376, 360, 104, 1712, 376, 35...   10  \n",
              "3                             [19, 75, 104, 353, 71]    5  \n",
              "4                [333, 283, 212, 1713, 105, 75, 186]    7  "
            ],
            "text/html": [
              "\n",
              "  <div id=\"df-3f1ea411-66a8-49be-a5bf-43b5b8b334f9\">\n",
              "    <div class=\"colab-df-container\">\n",
              "      <div>\n",
              "<style scoped>\n",
              "    .dataframe tbody tr th:only-of-type {\n",
              "        vertical-align: middle;\n",
              "    }\n",
              "\n",
              "    .dataframe tbody tr th {\n",
              "        vertical-align: top;\n",
              "    }\n",
              "\n",
              "    .dataframe thead th {\n",
              "        text-align: right;\n",
              "    }\n",
              "</style>\n",
              "<table border=\"1\" class=\"dataframe\">\n",
              "  <thead>\n",
              "    <tr style=\"text-align: right;\">\n",
              "      <th></th>\n",
              "      <th>id</th>\n",
              "      <th>keyword</th>\n",
              "      <th>location</th>\n",
              "      <th>text</th>\n",
              "      <th>target</th>\n",
              "      <th>text_clean</th>\n",
              "      <th>keyword_clean</th>\n",
              "      <th>all_text_clean</th>\n",
              "      <th>all_text_encoded</th>\n",
              "      <th>len</th>\n",
              "    </tr>\n",
              "  </thead>\n",
              "  <tbody>\n",
              "    <tr>\n",
              "      <th>0</th>\n",
              "      <td>1</td>\n",
              "      <td></td>\n",
              "      <td></td>\n",
              "      <td>Our Deeds are the Reason of this #earthquake M...</td>\n",
              "      <td>1</td>\n",
              "      <td>deed reason earthquake allah forgive</td>\n",
              "      <td></td>\n",
              "      <td>deed reason earthquake allah forgive</td>\n",
              "      <td>[438, 100, 1384, 1961]</td>\n",
              "      <td>4</td>\n",
              "    </tr>\n",
              "    <tr>\n",
              "      <th>1</th>\n",
              "      <td>4</td>\n",
              "      <td></td>\n",
              "      <td></td>\n",
              "      <td>Forest fire near La Ronge Sask. Canada</td>\n",
              "      <td>1</td>\n",
              "      <td>forest fire near la ronge sask canada</td>\n",
              "      <td></td>\n",
              "      <td>forest fire near la ronge sask canada</td>\n",
              "      <td>[73, 2, 259, 485, 1036]</td>\n",
              "      <td>5</td>\n",
              "    </tr>\n",
              "    <tr>\n",
              "      <th>2</th>\n",
              "      <td>5</td>\n",
              "      <td></td>\n",
              "      <td></td>\n",
              "      <td>All residents asked to 'shelter in place' are ...</td>\n",
              "      <td>1</td>\n",
              "      <td>resident ask shelter place notify officer evac...</td>\n",
              "      <td></td>\n",
              "      <td>resident ask shelter place notify officer eva...</td>\n",
              "      <td>[1385, 467, 1712, 376, 360, 104, 1712, 376, 35...</td>\n",
              "      <td>10</td>\n",
              "    </tr>\n",
              "    <tr>\n",
              "      <th>3</th>\n",
              "      <td>6</td>\n",
              "      <td></td>\n",
              "      <td></td>\n",
              "      <td>13,000 people receive #wildfires evacuation or...</td>\n",
              "      <td>1</td>\n",
              "      <td>people receive wildfire evacuation order calif...</td>\n",
              "      <td></td>\n",
              "      <td>people receive wildfire evacuation order cali...</td>\n",
              "      <td>[19, 75, 104, 353, 71]</td>\n",
              "      <td>5</td>\n",
              "    </tr>\n",
              "    <tr>\n",
              "      <th>4</th>\n",
              "      <td>7</td>\n",
              "      <td></td>\n",
              "      <td></td>\n",
              "      <td>Just got sent this photo from Ruby #Alaska as ...</td>\n",
              "      <td>1</td>\n",
              "      <td>got send photo ruby alaska smoke wildfire pour...</td>\n",
              "      <td></td>\n",
              "      <td>got send photo ruby alaska smoke wildfire pou...</td>\n",
              "      <td>[333, 283, 212, 1713, 105, 75, 186]</td>\n",
              "      <td>7</td>\n",
              "    </tr>\n",
              "  </tbody>\n",
              "</table>\n",
              "</div>\n",
              "      <button class=\"colab-df-convert\" onclick=\"convertToInteractive('df-3f1ea411-66a8-49be-a5bf-43b5b8b334f9')\"\n",
              "              title=\"Convert this dataframe to an interactive table.\"\n",
              "              style=\"display:none;\">\n",
              "        \n",
              "  <svg xmlns=\"http://www.w3.org/2000/svg\" height=\"24px\"viewBox=\"0 0 24 24\"\n",
              "       width=\"24px\">\n",
              "    <path d=\"M0 0h24v24H0V0z\" fill=\"none\"/>\n",
              "    <path d=\"M18.56 5.44l.94 2.06.94-2.06 2.06-.94-2.06-.94-.94-2.06-.94 2.06-2.06.94zm-11 1L8.5 8.5l.94-2.06 2.06-.94-2.06-.94L8.5 2.5l-.94 2.06-2.06.94zm10 10l.94 2.06.94-2.06 2.06-.94-2.06-.94-.94-2.06-.94 2.06-2.06.94z\"/><path d=\"M17.41 7.96l-1.37-1.37c-.4-.4-.92-.59-1.43-.59-.52 0-1.04.2-1.43.59L10.3 9.45l-7.72 7.72c-.78.78-.78 2.05 0 2.83L4 21.41c.39.39.9.59 1.41.59.51 0 1.02-.2 1.41-.59l7.78-7.78 2.81-2.81c.8-.78.8-2.07 0-2.86zM5.41 20L4 18.59l7.72-7.72 1.47 1.35L5.41 20z\"/>\n",
              "  </svg>\n",
              "      </button>\n",
              "      \n",
              "  <style>\n",
              "    .colab-df-container {\n",
              "      display:flex;\n",
              "      flex-wrap:wrap;\n",
              "      gap: 12px;\n",
              "    }\n",
              "\n",
              "    .colab-df-convert {\n",
              "      background-color: #E8F0FE;\n",
              "      border: none;\n",
              "      border-radius: 50%;\n",
              "      cursor: pointer;\n",
              "      display: none;\n",
              "      fill: #1967D2;\n",
              "      height: 32px;\n",
              "      padding: 0 0 0 0;\n",
              "      width: 32px;\n",
              "    }\n",
              "\n",
              "    .colab-df-convert:hover {\n",
              "      background-color: #E2EBFA;\n",
              "      box-shadow: 0px 1px 2px rgba(60, 64, 67, 0.3), 0px 1px 3px 1px rgba(60, 64, 67, 0.15);\n",
              "      fill: #174EA6;\n",
              "    }\n",
              "\n",
              "    [theme=dark] .colab-df-convert {\n",
              "      background-color: #3B4455;\n",
              "      fill: #D2E3FC;\n",
              "    }\n",
              "\n",
              "    [theme=dark] .colab-df-convert:hover {\n",
              "      background-color: #434B5C;\n",
              "      box-shadow: 0px 1px 3px 1px rgba(0, 0, 0, 0.15);\n",
              "      filter: drop-shadow(0px 1px 2px rgba(0, 0, 0, 0.3));\n",
              "      fill: #FFFFFF;\n",
              "    }\n",
              "  </style>\n",
              "\n",
              "      <script>\n",
              "        const buttonEl =\n",
              "          document.querySelector('#df-3f1ea411-66a8-49be-a5bf-43b5b8b334f9 button.colab-df-convert');\n",
              "        buttonEl.style.display =\n",
              "          google.colab.kernel.accessAllowed ? 'block' : 'none';\n",
              "\n",
              "        async function convertToInteractive(key) {\n",
              "          const element = document.querySelector('#df-3f1ea411-66a8-49be-a5bf-43b5b8b334f9');\n",
              "          const dataTable =\n",
              "            await google.colab.kernel.invokeFunction('convertToInteractive',\n",
              "                                                     [key], {});\n",
              "          if (!dataTable) return;\n",
              "\n",
              "          const docLinkHtml = 'Like what you see? Visit the ' +\n",
              "            '<a target=\"_blank\" href=https://colab.research.google.com/notebooks/data_table.ipynb>data table notebook</a>'\n",
              "            + ' to learn more about interactive tables.';\n",
              "          element.innerHTML = '';\n",
              "          dataTable['output_type'] = 'display_data';\n",
              "          await google.colab.output.renderOutput(dataTable, element);\n",
              "          const docLink = document.createElement('div');\n",
              "          docLink.innerHTML = docLinkHtml;\n",
              "          element.appendChild(docLink);\n",
              "        }\n",
              "      </script>\n",
              "    </div>\n",
              "  </div>\n",
              "  "
            ]
          },
          "metadata": {},
          "execution_count": 18
        }
      ]
    },
    {
      "cell_type": "markdown",
      "source": [
        "Padding vectors"
      ],
      "metadata": {
        "id": "oUPM-kquhawc"
      }
    },
    {
      "cell_type": "code",
      "source": [
        "text_pad = tf.keras.preprocessing.sequence.pad_sequences(data_train.all_text_encoded, padding=\"post\")"
      ],
      "metadata": {
        "id": "e65kCHDShLbA"
      },
      "execution_count": 19,
      "outputs": []
    },
    {
      "cell_type": "code",
      "source": [
        "full_ds = tf.data.Dataset.from_tensor_slices((text_pad, data_train.target))"
      ],
      "metadata": {
        "id": "ytncDSNThg-U"
      },
      "execution_count": 20,
      "outputs": []
    },
    {
      "cell_type": "markdown",
      "source": [
        "Split train / test"
      ],
      "metadata": {
        "id": "beYdS3pFhn1Q"
      }
    },
    {
      "cell_type": "code",
      "source": [
        "# Train Test Split\n",
        "TAKE_SIZE = int(0.7*data_train.shape[0])\n",
        "\n",
        "train_data70 = full_ds.take(TAKE_SIZE).shuffle(TAKE_SIZE)\n",
        "train_data70 = train_data70.batch(64)\n",
        "\n",
        "test_data30 = full_ds.skip(TAKE_SIZE)\n",
        "test_data30 = test_data30.batch(64)"
      ],
      "metadata": {
        "id": "ETp83ZAhhqi5"
      },
      "execution_count": 22,
      "outputs": []
    },
    {
      "cell_type": "code",
      "source": [
        "# Print one batch \n",
        "for tweet, target in train_data.take(1):\n",
        "  print(tweet, target)"
      ],
      "metadata": {
        "colab": {
          "base_uri": "https://localhost:8080/"
        },
        "id": "wnDGYdp8h1U2",
        "outputId": "52622fb6-4cb4-4441-cc5c-3b2e64678809"
      },
      "execution_count": 23,
      "outputs": [
        {
          "output_type": "stream",
          "name": "stdout",
          "text": [
            "tf.Tensor(\n",
            "[[  92  368  905 ...    0    0    0]\n",
            " [  90   90  383 ...    0    0    0]\n",
            " [  13  954  385 ...    0    0    0]\n",
            " ...\n",
            " [  34  366  262 ...    0    0    0]\n",
            " [ 232 1765  157 ...    0    0    0]\n",
            " [ 136  197  234 ...    0    0    0]], shape=(64, 18), dtype=int32) tf.Tensor(\n",
            "[0 0 1 0 1 1 0 0 0 0 0 1 0 1 1 0 0 1 1 0 0 0 0 1 0 1 1 1 1 0 1 1 1 1 1 1 0\n",
            " 1 0 0 0 1 1 1 0 1 0 0 1 1 0 1 1 0 0 1 0 0 0 0 0 1 0 0], shape=(64,), dtype=int64)\n"
          ]
        }
      ]
    },
    {
      "cell_type": "markdown",
      "source": [
        "Model 1 : With word embbeding"
      ],
      "metadata": {
        "id": "mNIjrqjdiMuR"
      }
    },
    {
      "cell_type": "code",
      "source": [
        "vocab_size = 2000\n",
        "model = tf.keras.Sequential([\n",
        "                  # Couche d'Input Word Embedding           \n",
        "                  tf.keras.layers.Embedding(vocab_size+1, 16, input_shape=[tweet.shape[1],],name=\"embedding\"),\n",
        "                  # Gobal average pooling\n",
        "                  tf.keras.layers.GlobalAveragePooling1D(),\n",
        "\n",
        "                  # Couche Dense classique\n",
        "                  tf.keras.layers.Dense(16, activation='relu'),\n",
        "                  tf.keras.layers.Dense(8, activation='relu'),\n",
        "\n",
        "                  # Couche de sortie avec le nombre de neurones en sortie ÃƒÂ©gale au nombre de classe avec fonction softmax\n",
        "                  tf.keras.layers.Dense(1, activation=\"sigmoid\")\n",
        "])"
      ],
      "metadata": {
        "id": "W5JdqfOXiLDC"
      },
      "execution_count": 24,
      "outputs": []
    },
    {
      "cell_type": "code",
      "source": [
        "model.summary()"
      ],
      "metadata": {
        "colab": {
          "base_uri": "https://localhost:8080/"
        },
        "id": "mkdqdNj4iTXl",
        "outputId": "cacf593f-27cb-4075-c493-3f9b7e2efc7a"
      },
      "execution_count": 25,
      "outputs": [
        {
          "output_type": "stream",
          "name": "stdout",
          "text": [
            "Model: \"sequential\"\n",
            "_________________________________________________________________\n",
            " Layer (type)                Output Shape              Param #   \n",
            "=================================================================\n",
            " embedding (Embedding)       (None, 18, 16)            32016     \n",
            "                                                                 \n",
            " global_average_pooling1d (G  (None, 16)               0         \n",
            " lobalAveragePooling1D)                                          \n",
            "                                                                 \n",
            " dense (Dense)               (None, 16)                272       \n",
            "                                                                 \n",
            " dense_1 (Dense)             (None, 8)                 136       \n",
            "                                                                 \n",
            " dense_2 (Dense)             (None, 1)                 9         \n",
            "                                                                 \n",
            "=================================================================\n",
            "Total params: 32,433\n",
            "Trainable params: 32,433\n",
            "Non-trainable params: 0\n",
            "_________________________________________________________________\n"
          ]
        }
      ]
    },
    {
      "cell_type": "code",
      "source": [
        "optimizer= tf.keras.optimizers.Adam(0.0002)\n",
        "\n",
        "model.compile(optimizer=optimizer,\n",
        "              loss=tf.keras.losses.BinaryCrossentropy(),\n",
        "              metrics=['accuracy'])"
      ],
      "metadata": {
        "id": "iv1zC8hgiWc8"
      },
      "execution_count": 26,
      "outputs": []
    },
    {
      "cell_type": "code",
      "source": [
        "# Train model\n",
        "history = model.fit(train_data70, \n",
        "                    epochs=20, \n",
        "                    validation_data=test_data30)"
      ],
      "metadata": {
        "colab": {
          "base_uri": "https://localhost:8080/"
        },
        "id": "prtxgxhwiZSW",
        "outputId": "404ae543-49ac-44e2-938f-f7606918a5ff"
      },
      "execution_count": 27,
      "outputs": [
        {
          "output_type": "stream",
          "name": "stdout",
          "text": [
            "Epoch 1/20\n",
            "84/84 [==============================] - 2s 5ms/step - loss: 0.6930 - accuracy: 0.5274 - val_loss: 0.6923 - val_accuracy: 0.5580\n",
            "Epoch 2/20\n",
            "84/84 [==============================] - 0s 3ms/step - loss: 0.6906 - accuracy: 0.5753 - val_loss: 0.6900 - val_accuracy: 0.5580\n",
            "Epoch 3/20\n",
            "84/84 [==============================] - 0s 4ms/step - loss: 0.6865 - accuracy: 0.5884 - val_loss: 0.6864 - val_accuracy: 0.5650\n",
            "Epoch 4/20\n",
            "84/84 [==============================] - 0s 3ms/step - loss: 0.6795 - accuracy: 0.6553 - val_loss: 0.6790 - val_accuracy: 0.6562\n",
            "Epoch 5/20\n",
            "84/84 [==============================] - 0s 3ms/step - loss: 0.6642 - accuracy: 0.7587 - val_loss: 0.6652 - val_accuracy: 0.7438\n",
            "Epoch 6/20\n",
            "84/84 [==============================] - 0s 4ms/step - loss: 0.6410 - accuracy: 0.8029 - val_loss: 0.6460 - val_accuracy: 0.7556\n",
            "Epoch 7/20\n",
            "84/84 [==============================] - 0s 3ms/step - loss: 0.6121 - accuracy: 0.8141 - val_loss: 0.6248 - val_accuracy: 0.7591\n",
            "Epoch 8/20\n",
            "84/84 [==============================] - 0s 3ms/step - loss: 0.5793 - accuracy: 0.8177 - val_loss: 0.6003 - val_accuracy: 0.7591\n",
            "Epoch 9/20\n",
            "84/84 [==============================] - 0s 3ms/step - loss: 0.5457 - accuracy: 0.8246 - val_loss: 0.5780 - val_accuracy: 0.7613\n",
            "Epoch 10/20\n",
            "84/84 [==============================] - 0s 3ms/step - loss: 0.5130 - accuracy: 0.8263 - val_loss: 0.5548 - val_accuracy: 0.7674\n",
            "Epoch 11/20\n",
            "84/84 [==============================] - 0s 3ms/step - loss: 0.4838 - accuracy: 0.8297 - val_loss: 0.5410 - val_accuracy: 0.7608\n",
            "Epoch 12/20\n",
            "84/84 [==============================] - 0s 3ms/step - loss: 0.4579 - accuracy: 0.8350 - val_loss: 0.5270 - val_accuracy: 0.7595\n",
            "Epoch 13/20\n",
            "84/84 [==============================] - 0s 3ms/step - loss: 0.4357 - accuracy: 0.8389 - val_loss: 0.5145 - val_accuracy: 0.7595\n",
            "Epoch 14/20\n",
            "84/84 [==============================] - 0s 3ms/step - loss: 0.4168 - accuracy: 0.8443 - val_loss: 0.5047 - val_accuracy: 0.7608\n",
            "Epoch 15/20\n",
            "84/84 [==============================] - 0s 3ms/step - loss: 0.4009 - accuracy: 0.8460 - val_loss: 0.5022 - val_accuracy: 0.7543\n",
            "Epoch 16/20\n",
            "84/84 [==============================] - 0s 4ms/step - loss: 0.3872 - accuracy: 0.8487 - val_loss: 0.4959 - val_accuracy: 0.7565\n",
            "Epoch 17/20\n",
            "84/84 [==============================] - 0s 4ms/step - loss: 0.3759 - accuracy: 0.8517 - val_loss: 0.4980 - val_accuracy: 0.7468\n",
            "Epoch 18/20\n",
            "84/84 [==============================] - 0s 3ms/step - loss: 0.3657 - accuracy: 0.8558 - val_loss: 0.5032 - val_accuracy: 0.7350\n",
            "Epoch 19/20\n",
            "84/84 [==============================] - 0s 3ms/step - loss: 0.3569 - accuracy: 0.8564 - val_loss: 0.4953 - val_accuracy: 0.7534\n",
            "Epoch 20/20\n",
            "84/84 [==============================] - 0s 3ms/step - loss: 0.3495 - accuracy: 0.8609 - val_loss: 0.5063 - val_accuracy: 0.7372\n"
          ]
        }
      ]
    },
    {
      "cell_type": "markdown",
      "source": [
        "Eval Model"
      ],
      "metadata": {
        "id": "-EBlQ-48ikS5"
      }
    },
    {
      "cell_type": "code",
      "source": [
        "# Visualization of the training process on the loss function \n",
        "plt.plot(history.history[\"loss\"], color=\"b\")\n",
        "plt.plot(history.history[\"val_loss\"], color=\"r\")\n",
        "plt.ylabel(\"loss\")\n",
        "plt.xlabel(\"Epochs\")\n",
        "plt.show()"
      ],
      "metadata": {
        "colab": {
          "base_uri": "https://localhost:8080/",
          "height": 279
        },
        "id": "Feu51TdYimN5",
        "outputId": "2d4a31b4-0ae0-4aaf-d370-40b3a3299b03"
      },
      "execution_count": 29,
      "outputs": [
        {
          "output_type": "display_data",
          "data": {
            "text/plain": [
              "<Figure size 432x288 with 1 Axes>"
            ],
            "image/png": "[encoded data removed]"
          },
          "metadata": {
            "needs_background": "light"
          }
        }
      ]
    },
    {
      "cell_type": "code",
      "source": [
        "# Visualization of accuracy training \n",
        "plt.plot(history.history[\"accuracy\"], color=\"b\")\n",
        "plt.plot(history.history[\"val_accuracy\"], color=\"r\")\n",
        "plt.ylabel(\"accuracy\")\n",
        "plt.xlabel(\"Epochs\")\n",
        "plt.show()"
      ],
      "metadata": {
        "colab": {
          "base_uri": "https://localhost:8080/",
          "height": 279
        },
        "id": "TErhqYrPiw1s",
        "outputId": "de68b98b-ef29-44d5-c7ed-6426316353c9"
      },
      "execution_count": 30,
      "outputs": [
        {
          "output_type": "display_data",
          "data": {
            "text/plain": [
              "<Figure size 432x288 with 1 Axes>"
            ],
            "image/png": "[encoded data removed]"
          },
          "metadata": {
            "needs_background": "light"
          }
        }
      ]
    },
    {
      "cell_type": "markdown",
      "source": [
        "Model 2 : with RNN\n"
      ],
      "metadata": {
        "id": "8ya5LmRjiz1T"
      }
    },
    {
      "cell_type": "code",
      "source": [
        "vocab_size = 2000\n",
        "embedding_dim=16 # the dimensionality of the representation space\n",
        "\n",
        "model_rnn = Sequential([\n",
        "  Embedding(vocab_size+1, embedding_dim, input_shape=[tweet.shape[1],], name=\"embedding\"), # the embedding layer\n",
        "  # the input dim needs to be equal to the size of the vocabulary + 1 (because of\n",
        "  # the zero padding)\n",
        "  SimpleRNN(units=64, return_sequences=True, kernel_regularizer = \"l1\"), # maintains the sequential nature\n",
        "  SimpleRNN(units=32, return_sequences=False), # returns the last output\n",
        "  Dense(16, activation='relu'), # a dense layer\n",
        "  Dense(1, activation=\"sigmoid\") # the prediction layer\n",
        "])"
      ],
      "metadata": {
        "id": "vRoW5g_Rix-w"
      },
      "execution_count": 31,
      "outputs": []
    },
    {
      "cell_type": "code",
      "source": [
        "model_rnn.summary()\n"
      ],
      "metadata": {
        "colab": {
          "base_uri": "https://localhost:8080/"
        },
        "id": "XzEM4MFWi3vR",
        "outputId": "69f693d1-ef85-4a06-ec7d-e24ae4146d63"
      },
      "execution_count": 32,
      "outputs": [
        {
          "output_type": "stream",
          "name": "stdout",
          "text": [
            "Model: \"sequential_1\"\n",
            "_________________________________________________________________\n",
            " Layer (type)                Output Shape              Param #   \n",
            "=================================================================\n",
            " embedding (Embedding)       (None, 18, 16)            32016     \n",
            "                                                                 \n",
            " simple_rnn (SimpleRNN)      (None, 18, 64)            5184      \n",
            "                                                                 \n",
            " simple_rnn_1 (SimpleRNN)    (None, 32)                3104      \n",
            "                                                                 \n",
            " dense_3 (Dense)             (None, 16)                528       \n",
            "                                                                 \n",
            " dense_4 (Dense)             (None, 1)                 17        \n",
            "                                                                 \n",
            "=================================================================\n",
            "Total params: 40,849\n",
            "Trainable params: 40,849\n",
            "Non-trainable params: 0\n",
            "_________________________________________________________________\n"
          ]
        }
      ]
    },
    {
      "cell_type": "code",
      "source": [
        "model_rnn.compile(optimizer=tf.keras.optimizers.Adam(0.0001),\n",
        "              loss=tf.keras.losses.BinaryCrossentropy(),\n",
        "              metrics=['accuracy'])"
      ],
      "metadata": {
        "id": "gl8YyUFmjDol"
      },
      "execution_count": 33,
      "outputs": []
    },
    {
      "cell_type": "code",
      "source": [
        "history_rnn = model_rnn.fit(\n",
        "    train_data70,\n",
        "    validation_data=test_data30,\n",
        "    epochs=10)\n"
      ],
      "metadata": {
        "colab": {
          "base_uri": "https://localhost:8080/"
        },
        "id": "fQDh6vNLjImo",
        "outputId": "bad4f991-1cfe-4064-bbc3-08baa1161ec5"
      },
      "execution_count": 35,
      "outputs": [
        {
          "output_type": "stream",
          "name": "stdout",
          "text": [
            "Epoch 1/10\n",
            "84/84 [==============================] - 1s 16ms/step - loss: 1.7963 - accuracy: 0.7347 - val_loss: 1.8306 - val_accuracy: 0.6531\n",
            "Epoch 2/10\n",
            "84/84 [==============================] - 1s 15ms/step - loss: 1.6658 - accuracy: 0.7766 - val_loss: 1.7424 - val_accuracy: 0.6750\n",
            "Epoch 3/10\n",
            "84/84 [==============================] - 1s 15ms/step - loss: 1.5552 - accuracy: 0.8077 - val_loss: 1.6772 - val_accuracy: 0.6873\n",
            "Epoch 4/10\n",
            "84/84 [==============================] - 1s 15ms/step - loss: 1.4565 - accuracy: 0.8269 - val_loss: 1.6257 - val_accuracy: 0.6899\n",
            "Epoch 5/10\n",
            "84/84 [==============================] - 1s 16ms/step - loss: 1.3718 - accuracy: 0.8474 - val_loss: 1.6288 - val_accuracy: 0.6719\n",
            "Epoch 6/10\n",
            "84/84 [==============================] - 1s 16ms/step - loss: 1.2989 - accuracy: 0.8596 - val_loss: 1.6169 - val_accuracy: 0.6614\n",
            "Epoch 7/10\n",
            "84/84 [==============================] - 1s 14ms/step - loss: 1.2338 - accuracy: 0.8695 - val_loss: 1.6330 - val_accuracy: 0.6518\n",
            "Epoch 8/10\n",
            "84/84 [==============================] - 2s 23ms/step - loss: 1.1707 - accuracy: 0.8810 - val_loss: 1.4975 - val_accuracy: 0.6982\n",
            "Epoch 9/10\n",
            "84/84 [==============================] - 1s 18ms/step - loss: 1.1126 - accuracy: 0.8928 - val_loss: 1.5498 - val_accuracy: 0.6789\n",
            "Epoch 10/10\n",
            "84/84 [==============================] - 2s 19ms/step - loss: 1.0568 - accuracy: 0.9003 - val_loss: 1.5471 - val_accuracy: 0.6754\n"
          ]
        }
      ]
    },
    {
      "cell_type": "markdown",
      "source": [
        "Eval model 2"
      ],
      "metadata": {
        "id": "hmFZJ4e1jQLn"
      }
    },
    {
      "cell_type": "code",
      "source": [
        "# Visualization of the training process on the loss function \n",
        "plt.plot(history_rnn.history[\"loss\"], color=\"b\")\n",
        "plt.plot(history_rnn.history[\"val_loss\"], color=\"r\")\n",
        "plt.ylabel(\"loss\")\n",
        "plt.xlabel(\"Epochs\")\n",
        "plt.show()"
      ],
      "metadata": {
        "colab": {
          "base_uri": "https://localhost:8080/",
          "height": 279
        },
        "id": "uC4C0VeEjVcp",
        "outputId": "7dbdd5f2-340a-45a3-b6cc-b310c0700b69"
      },
      "execution_count": 36,
      "outputs": [
        {
          "output_type": "display_data",
          "data": {
            "text/plain": [
              "<Figure size 432x288 with 1 Axes>"
            ],
            "image/png": "[encoded data removed]"
          },
          "metadata": {
            "needs_background": "light"
          }
        }
      ]
    },
    {
      "cell_type": "code",
      "source": [
        "# Visualization of accuracy training \n",
        "plt.plot(history_rnn.history[\"accuracy\"], color=\"b\")\n",
        "plt.plot(history_rnn.history[\"val_accuracy\"], color=\"r\")\n",
        "plt.ylabel(\"accuracy\")\n",
        "plt.xlabel(\"Epochs\")\n",
        "plt.show()\n"
      ],
      "metadata": {
        "colab": {
          "base_uri": "https://localhost:8080/",
          "height": 279
        },
        "id": "fDXFZwB7jZpi",
        "outputId": "910fc962-40c8-4dca-d26d-0f79c9a6ab48"
      },
      "execution_count": 37,
      "outputs": [
        {
          "output_type": "display_data",
          "data": {
            "text/plain": [
              "<Figure size 432x288 with 1 Axes>"
            ],
            "image/png": "[encoded data removed]"
          },
          "metadata": {
            "needs_background": "light"
          }
        }
      ]
    },
    {
      "cell_type": "markdown",
      "source": [
        "Model 3 : with LSTM"
      ],
      "metadata": {
        "id": "uoxEaBUSjifS"
      }
    },
    {
      "cell_type": "code",
      "source": [
        "vocab_size = 2000\n",
        "embedding_dim=16 # the dimensionality of the representation space\n",
        "\n",
        "model_lstm = Sequential([\n",
        "  Embedding(vocab_size+1, embedding_dim, input_shape=[tweet.shape[1],], name=\"embedding\"), # the embedding layer\n",
        "  # the input dim needs to be equal to the size of the vocabulary + 1 (because of\n",
        "  # the zero padding)\n",
        "  tf.keras.layers.Bidirectional(LSTM(units=64, return_sequences=True)), # maintains the sequential nature\n",
        "  LSTM(units=32, return_sequences=False), # returns the last output\n",
        "  Dense(16, activation='relu'), # a dense layer\n",
        "  Dense(1, activation=\"sigmoid\") # the prediction layer\n",
        "])"
      ],
      "metadata": {
        "id": "FOpYmfemjjwd"
      },
      "execution_count": 38,
      "outputs": []
    },
    {
      "cell_type": "code",
      "source": [
        "model_lstm.compile(optimizer=tf.keras.optimizers.Adam(0.00002),\n",
        "              loss=tf.keras.losses.BinaryCrossentropy(),\n",
        "              metrics=['accuracy'])"
      ],
      "metadata": {
        "id": "TmM-D5B3jtwi"
      },
      "execution_count": 39,
      "outputs": []
    },
    {
      "cell_type": "code",
      "source": [
        "model_lstm.summary()"
      ],
      "metadata": {
        "colab": {
          "base_uri": "https://localhost:8080/"
        },
        "id": "ufbzLJJBjxIi",
        "outputId": "9a09549b-134f-4d9f-9866-f61054e322bb"
      },
      "execution_count": 40,
      "outputs": [
        {
          "output_type": "stream",
          "name": "stdout",
          "text": [
            "Model: \"sequential_2\"\n",
            "_________________________________________________________________\n",
            " Layer (type)                Output Shape              Param #   \n",
            "=================================================================\n",
            " embedding (Embedding)       (None, 18, 16)            32016     \n",
            "                                                                 \n",
            " bidirectional (Bidirectiona  (None, 18, 128)          41472     \n",
            " l)                                                              \n",
            "                                                                 \n",
            " lstm_1 (LSTM)               (None, 32)                20608     \n",
            "                                                                 \n",
            " dense_5 (Dense)             (None, 16)                528       \n",
            "                                                                 \n",
            " dense_6 (Dense)             (None, 1)                 17        \n",
            "                                                                 \n",
            "=================================================================\n",
            "Total params: 94,641\n",
            "Trainable params: 94,641\n",
            "Non-trainable params: 0\n",
            "_________________________________________________________________\n"
          ]
        }
      ]
    },
    {
      "cell_type": "code",
      "source": [
        "history_lstm = model_lstm.fit(\n",
        "    train_data70,\n",
        "    validation_data=test_data30,\n",
        "    epochs=20)"
      ],
      "metadata": {
        "colab": {
          "base_uri": "https://localhost:8080/"
        },
        "id": "wAc3Xzoxjz0x",
        "outputId": "9d8f48df-a86e-4591-d7bc-1d41ed3aa19e"
      },
      "execution_count": 41,
      "outputs": [
        {
          "output_type": "stream",
          "name": "stdout",
          "text": [
            "Epoch 1/20\n",
            "84/84 [==============================] - 12s 74ms/step - loss: 0.6911 - accuracy: 0.5753 - val_loss: 0.6899 - val_accuracy: 0.5580\n",
            "Epoch 2/20\n",
            "84/84 [==============================] - 4s 46ms/step - loss: 0.6873 - accuracy: 0.5753 - val_loss: 0.6870 - val_accuracy: 0.5580\n",
            "Epoch 3/20\n",
            "84/84 [==============================] - 4s 42ms/step - loss: 0.6834 - accuracy: 0.5753 - val_loss: 0.6837 - val_accuracy: 0.5580\n",
            "Epoch 4/20\n",
            "84/84 [==============================] - 3s 41ms/step - loss: 0.6790 - accuracy: 0.5753 - val_loss: 0.6814 - val_accuracy: 0.5580\n",
            "Epoch 5/20\n",
            "84/84 [==============================] - 4s 46ms/step - loss: 0.6756 - accuracy: 0.5753 - val_loss: 0.6797 - val_accuracy: 0.5580\n",
            "Epoch 6/20\n",
            "84/84 [==============================] - 4s 42ms/step - loss: 0.6722 - accuracy: 0.5753 - val_loss: 0.6770 - val_accuracy: 0.5580\n",
            "Epoch 7/20\n",
            "84/84 [==============================] - 4s 47ms/step - loss: 0.6668 - accuracy: 0.5753 - val_loss: 0.6721 - val_accuracy: 0.5580\n",
            "Epoch 8/20\n",
            "84/84 [==============================] - 4s 48ms/step - loss: 0.6559 - accuracy: 0.5762 - val_loss: 0.6619 - val_accuracy: 0.5580\n",
            "Epoch 9/20\n",
            "84/84 [==============================] - 4s 48ms/step - loss: 0.6319 - accuracy: 0.5980 - val_loss: 0.6413 - val_accuracy: 0.5905\n",
            "Epoch 10/20\n",
            "84/84 [==============================] - 4s 45ms/step - loss: 0.5957 - accuracy: 0.6829 - val_loss: 0.6235 - val_accuracy: 0.6570\n",
            "Epoch 11/20\n",
            "84/84 [==============================] - 4s 46ms/step - loss: 0.5665 - accuracy: 0.7492 - val_loss: 0.6105 - val_accuracy: 0.7140\n",
            "Epoch 12/20\n",
            "84/84 [==============================] - 5s 55ms/step - loss: 0.5469 - accuracy: 0.7798 - val_loss: 0.6022 - val_accuracy: 0.7184\n",
            "Epoch 13/20\n",
            "84/84 [==============================] - 5s 55ms/step - loss: 0.5299 - accuracy: 0.7893 - val_loss: 0.5940 - val_accuracy: 0.7306\n",
            "Epoch 14/20\n",
            "84/84 [==============================] - 4s 53ms/step - loss: 0.5141 - accuracy: 0.7982 - val_loss: 0.5872 - val_accuracy: 0.7306\n",
            "Epoch 15/20\n",
            "84/84 [==============================] - 6s 71ms/step - loss: 0.4985 - accuracy: 0.8042 - val_loss: 0.5810 - val_accuracy: 0.7350\n",
            "Epoch 16/20\n",
            "84/84 [==============================] - 6s 77ms/step - loss: 0.4836 - accuracy: 0.8045 - val_loss: 0.5760 - val_accuracy: 0.7297\n",
            "Epoch 17/20\n",
            "84/84 [==============================] - 5s 61ms/step - loss: 0.4692 - accuracy: 0.8113 - val_loss: 0.5736 - val_accuracy: 0.7179\n",
            "Epoch 18/20\n",
            "84/84 [==============================] - 6s 68ms/step - loss: 0.4563 - accuracy: 0.8141 - val_loss: 0.5699 - val_accuracy: 0.7179\n",
            "Epoch 19/20\n",
            "84/84 [==============================] - 4s 43ms/step - loss: 0.4458 - accuracy: 0.8203 - val_loss: 0.5697 - val_accuracy: 0.7078\n",
            "Epoch 20/20\n",
            "84/84 [==============================] - 4s 43ms/step - loss: 0.4370 - accuracy: 0.8222 - val_loss: 0.5679 - val_accuracy: 0.7078\n"
          ]
        }
      ]
    },
    {
      "cell_type": "markdown",
      "source": [
        "Eval model 3"
      ],
      "metadata": {
        "id": "j0uEojpij4e-"
      }
    },
    {
      "cell_type": "code",
      "source": [
        "# Visualization of the training process on the loss function \n",
        "plt.plot(history_lstm.history[\"loss\"], color=\"b\")\n",
        "plt.plot(history_lstm.history[\"val_loss\"], color=\"r\")\n",
        "plt.ylabel(\"loss\")\n",
        "plt.xlabel(\"Epochs\")\n",
        "plt.show()"
      ],
      "metadata": {
        "colab": {
          "base_uri": "https://localhost:8080/",
          "height": 280
        },
        "id": "ul2YiHh8kFK-",
        "outputId": "b6f8873b-9477-4b93-f272-429f3007c388"
      },
      "execution_count": 42,
      "outputs": [
        {
          "output_type": "display_data",
          "data": {
            "text/plain": [
              "<Figure size 432x288 with 1 Axes>"
            ],
            "image/png": "[encoded data removed]"
          },
          "metadata": {
            "needs_background": "light"
          }
        }
      ]
    },
    {
      "cell_type": "code",
      "source": [
        "# Visualization of accuracy training \n",
        "plt.plot(history_lstm.history[\"accuracy\"], color=\"b\")\n",
        "plt.plot(history_lstm.history[\"val_accuracy\"], color=\"r\")\n",
        "plt.ylabel(\"accuracy\")\n",
        "plt.xlabel(\"Epochs\")\n",
        "plt.show()"
      ],
      "metadata": {
        "colab": {
          "base_uri": "https://localhost:8080/",
          "height": 279
        },
        "id": "lFyeGlLakGf6",
        "outputId": "21500d90-cb7d-42d9-c04b-c105faef8dc0"
      },
      "execution_count": 43,
      "outputs": [
        {
          "output_type": "display_data",
          "data": {
            "text/plain": [
              "<Figure size 432x288 with 1 Axes>"
            ],
            "image/png": "[encoded data removed]"
          },
          "metadata": {
            "needs_background": "light"
          }
        }
      ]
    },
    {
      "cell_type": "markdown",
      "source": [
        "To conclude"
      ],
      "metadata": {
        "id": "GZwCwiRWkKku"
      }
    },
    {
      "cell_type": "markdown",
      "source": [
        "Conclusion\n",
        "\n",
        "Model 1 :\n",
        "- Simpliest and it has \n",
        "- Relatively good performance after the preprocessings were tuned. \n",
        "- Loss and val loss decrease\n",
        "- No overfit\n",
        "- Accuracy : 0,75.\n",
        "--> Performance was improved with setting low learning rate\n",
        "\n",
        "\n",
        "\n",
        "Model 2 : \n",
        "- Simple RNN. \n",
        "- Not really good performance\n",
        "- Overfitting quickly with default parameters.\n",
        "-->Limit overfitting with setting Ridge regularizer one the first RNN layer, and low learning rate.\n",
        "\n",
        "Model 3 :\n",
        "- More complex with LSTM \n",
        "- Slow learner\n",
        "- Not performing well at first and \n",
        "- Overfit with default parameters\n",
        "--> Set the learning rate very low (0, 00002), and rise the number of epochs : it does not learn anything before epoch n°10. Then after it has quick learning and reaches some good performance that could compare with model 1.\n",
        "- Complex and slow, Model 1 should be prefered.\n"
      ],
      "metadata": {
        "id": "8c5Oj173kPDD"
      }
    },
    {
      "cell_type": "markdown",
      "source": [
        "Prediction"
      ],
      "metadata": {
        "id": "35VTJOHNnU5Z"
      }
    },
    {
      "cell_type": "code",
      "source": [
        "predictions = model_lstm.predict(test_data30)"
      ],
      "metadata": {
        "colab": {
          "base_uri": "https://localhost:8080/"
        },
        "id": "O6Cpl2CSnWY1",
        "outputId": "7ff26448-8290-49e5-a274-b7a111d30452"
      },
      "execution_count": 50,
      "outputs": [
        {
          "output_type": "stream",
          "name": "stdout",
          "text": [
            "36/36 [==============================] - 2s 15ms/step\n"
          ]
        }
      ]
    },
    {
      "cell_type": "code",
      "source": [
        "predictions.reshape(1, -1)\n"
      ],
      "metadata": {
        "colab": {
          "base_uri": "https://localhost:8080/"
        },
        "id": "7cS68Eponwx0",
        "outputId": "5e33af5e-e849-4e9f-d1ab-5a164f9f23c7"
      },
      "execution_count": 51,
      "outputs": [
        {
          "output_type": "execute_result",
          "data": {
            "text/plain": [
              "array([[0.6591819 , 0.09239586, 0.17977451, ..., 0.69539845, 0.67797136,\n",
              "        0.7973815 ]], dtype=float32)"
            ]
          },
          "metadata": {},
          "execution_count": 51
        }
      ]
    },
    {
      "cell_type": "code",
      "source": [
        "predictions = pd.DataFrame(predictions, columns=[\"Predictions\"])\n"
      ],
      "metadata": {
        "id": "TaE0qR6Bn3yh"
      },
      "execution_count": 52,
      "outputs": []
    },
    {
      "cell_type": "code",
      "source": [
        "predictions[\"Predictions\"] = predictions[\"Predictions\"].apply(lambda x: 0 if x<0.5 else 1)\n"
      ],
      "metadata": {
        "id": "xzfsrjI9n5Nf"
      },
      "execution_count": 53,
      "outputs": []
    },
    {
      "cell_type": "code",
      "source": [
        "predictions"
      ],
      "metadata": {
        "colab": {
          "base_uri": "https://localhost:8080/",
          "height": 424
        },
        "id": "y8LjuIY3n-V1",
        "outputId": "a5f1ae42-2b37-454d-82e8-d50a74c427c1"
      },
      "execution_count": 54,
      "outputs": [
        {
          "output_type": "execute_result",
          "data": {
            "text/plain": [
              "      Predictions\n",
              "0               1\n",
              "1               0\n",
              "2               0\n",
              "3               1\n",
              "4               1\n",
              "...           ...\n",
              "2278            1\n",
              "2279            1\n",
              "2280            1\n",
              "2281            1\n",
              "2282            1\n",
              "\n",
              "[2283 rows x 1 columns]"
            ],
            "text/html": [
              "\n",
              "  <div id=\"df-a78ca72c-af3b-499e-a9da-7ad8b2756ddf\">\n",
              "    <div class=\"colab-df-container\">\n",
              "      <div>\n",
              "<style scoped>\n",
              "    .dataframe tbody tr th:only-of-type {\n",
              "        vertical-align: middle;\n",
              "    }\n",
              "\n",
              "    .dataframe tbody tr th {\n",
              "        vertical-align: top;\n",
              "    }\n",
              "\n",
              "    .dataframe thead th {\n",
              "        text-align: right;\n",
              "    }\n",
              "</style>\n",
              "<table border=\"1\" class=\"dataframe\">\n",
              "  <thead>\n",
              "    <tr style=\"text-align: right;\">\n",
              "      <th></th>\n",
              "      <th>Predictions</th>\n",
              "    </tr>\n",
              "  </thead>\n",
              "  <tbody>\n",
              "    <tr>\n",
              "      <th>0</th>\n",
              "      <td>1</td>\n",
              "    </tr>\n",
              "    <tr>\n",
              "      <th>1</th>\n",
              "      <td>0</td>\n",
              "    </tr>\n",
              "    <tr>\n",
              "      <th>2</th>\n",
              "      <td>0</td>\n",
              "    </tr>\n",
              "    <tr>\n",
              "      <th>3</th>\n",
              "      <td>1</td>\n",
              "    </tr>\n",
              "    <tr>\n",
              "      <th>4</th>\n",
              "      <td>1</td>\n",
              "    </tr>\n",
              "    <tr>\n",
              "      <th>...</th>\n",
              "      <td>...</td>\n",
              "    </tr>\n",
              "    <tr>\n",
              "      <th>2278</th>\n",
              "      <td>1</td>\n",
              "    </tr>\n",
              "    <tr>\n",
              "      <th>2279</th>\n",
              "      <td>1</td>\n",
              "    </tr>\n",
              "    <tr>\n",
              "      <th>2280</th>\n",
              "      <td>1</td>\n",
              "    </tr>\n",
              "    <tr>\n",
              "      <th>2281</th>\n",
              "      <td>1</td>\n",
              "    </tr>\n",
              "    <tr>\n",
              "      <th>2282</th>\n",
              "      <td>1</td>\n",
              "    </tr>\n",
              "  </tbody>\n",
              "</table>\n",
              "<p>2283 rows × 1 columns</p>\n",
              "</div>\n",
              "      <button class=\"colab-df-convert\" onclick=\"convertToInteractive('df-a78ca72c-af3b-499e-a9da-7ad8b2756ddf')\"\n",
              "              title=\"Convert this dataframe to an interactive table.\"\n",
              "              style=\"display:none;\">\n",
              "        \n",
              "  <svg xmlns=\"http://www.w3.org/2000/svg\" height=\"24px\"viewBox=\"0 0 24 24\"\n",
              "       width=\"24px\">\n",
              "    <path d=\"M0 0h24v24H0V0z\" fill=\"none\"/>\n",
              "    <path d=\"M18.56 5.44l.94 2.06.94-2.06 2.06-.94-2.06-.94-.94-2.06-.94 2.06-2.06.94zm-11 1L8.5 8.5l.94-2.06 2.06-.94-2.06-.94L8.5 2.5l-.94 2.06-2.06.94zm10 10l.94 2.06.94-2.06 2.06-.94-2.06-.94-.94-2.06-.94 2.06-2.06.94z\"/><path d=\"M17.41 7.96l-1.37-1.37c-.4-.4-.92-.59-1.43-.59-.52 0-1.04.2-1.43.59L10.3 9.45l-7.72 7.72c-.78.78-.78 2.05 0 2.83L4 21.41c.39.39.9.59 1.41.59.51 0 1.02-.2 1.41-.59l7.78-7.78 2.81-2.81c.8-.78.8-2.07 0-2.86zM5.41 20L4 18.59l7.72-7.72 1.47 1.35L5.41 20z\"/>\n",
              "  </svg>\n",
              "      </button>\n",
              "      \n",
              "  <style>\n",
              "    .colab-df-container {\n",
              "      display:flex;\n",
              "      flex-wrap:wrap;\n",
              "      gap: 12px;\n",
              "    }\n",
              "\n",
              "    .colab-df-convert {\n",
              "      background-color: #E8F0FE;\n",
              "      border: none;\n",
              "      border-radius: 50%;\n",
              "      cursor: pointer;\n",
              "      display: none;\n",
              "      fill: #1967D2;\n",
              "      height: 32px;\n",
              "      padding: 0 0 0 0;\n",
              "      width: 32px;\n",
              "    }\n",
              "\n",
              "    .colab-df-convert:hover {\n",
              "      background-color: #E2EBFA;\n",
              "      box-shadow: 0px 1px 2px rgba(60, 64, 67, 0.3), 0px 1px 3px 1px rgba(60, 64, 67, 0.15);\n",
              "      fill: #174EA6;\n",
              "    }\n",
              "\n",
              "    [theme=dark] .colab-df-convert {\n",
              "      background-color: #3B4455;\n",
              "      fill: #D2E3FC;\n",
              "    }\n",
              "\n",
              "    [theme=dark] .colab-df-convert:hover {\n",
              "      background-color: #434B5C;\n",
              "      box-shadow: 0px 1px 3px 1px rgba(0, 0, 0, 0.15);\n",
              "      filter: drop-shadow(0px 1px 2px rgba(0, 0, 0, 0.3));\n",
              "      fill: #FFFFFF;\n",
              "    }\n",
              "  </style>\n",
              "\n",
              "      <script>\n",
              "        const buttonEl =\n",
              "          document.querySelector('#df-a78ca72c-af3b-499e-a9da-7ad8b2756ddf button.colab-df-convert');\n",
              "        buttonEl.style.display =\n",
              "          google.colab.kernel.accessAllowed ? 'block' : 'none';\n",
              "\n",
              "        async function convertToInteractive(key) {\n",
              "          const element = document.querySelector('#df-a78ca72c-af3b-499e-a9da-7ad8b2756ddf');\n",
              "          const dataTable =\n",
              "            await google.colab.kernel.invokeFunction('convertToInteractive',\n",
              "                                                     [key], {});\n",
              "          if (!dataTable) return;\n",
              "\n",
              "          const docLinkHtml = 'Like what you see? Visit the ' +\n",
              "            '<a target=\"_blank\" href=https://colab.research.google.com/notebooks/data_table.ipynb>data table notebook</a>'\n",
              "            + ' to learn more about interactive tables.';\n",
              "          element.innerHTML = '';\n",
              "          dataTable['output_type'] = 'display_data';\n",
              "          await google.colab.output.renderOutput(dataTable, element);\n",
              "          const docLink = document.createElement('div');\n",
              "          docLink.innerHTML = docLinkHtml;\n",
              "          element.appendChild(docLink);\n",
              "        }\n",
              "      </script>\n",
              "    </div>\n",
              "  </div>\n",
              "  "
            ]
          },
          "metadata": {},
          "execution_count": 54
        }
      ]
    }
  ]
}